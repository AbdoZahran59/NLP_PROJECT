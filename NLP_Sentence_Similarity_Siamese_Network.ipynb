{
  "nbformat": 4,
  "nbformat_minor": 0,
  "metadata": {
    "colab": {
      "provenance": [],
      "gpuType": "T4"
    },
    "kernelspec": {
      "name": "python3",
      "display_name": "Python 3"
    },
    "language_info": {
      "name": "python"
    },
    "accelerator": "GPU"
  },
  "cells": [
    {
      "cell_type": "code",
      "source": [
        "!pip install tensorflow\n",
        "!pip install numpy\n",
        "!pip install matplotlib\n",
        "!pip install arabic-reshaper\n",
        "!pip install python-bidi"
      ],
      "metadata": {
        "id": "kslHaF9zubMb"
      },
      "execution_count": null,
      "outputs": []
    },
    {
      "cell_type": "code",
      "source": [
        "import numpy as np\n",
        "import pandas as pd\n",
        "import tensorflow as tf\n",
        "from tensorflow.keras import layers, Model\n",
        "import matplotlib.pyplot as plt\n",
        "import requests\n",
        "from tensorflow.keras.preprocessing.text import Tokenizer\n",
        "from tensorflow.keras.preprocessing.sequence import pad_sequences\n",
        "from sklearn.model_selection import train_test_split"
      ],
      "metadata": {
        "id": "gKwgy0_P7MsR"
      },
      "execution_count": 2,
      "outputs": []
    },
    {
      "cell_type": "code",
      "source": [
        "# Download the dataset\n",
        "url = 'https://raw.githubusercontent.com/SamirMoustafa/nmt-with-attention-for-ar-to-en/master/ara_.txt'\n",
        "response = requests.get(url)\n",
        "\n",
        "# Save the data to a temporary file\n",
        "with open('ara_.txt', 'wb') as f:\n",
        "    f.write(response.content)\n",
        "\n",
        "# Read the dataset\n",
        "with open('ara_.txt', 'r', encoding='utf-8') as file:\n",
        "    lines = file.readlines()"
      ],
      "metadata": {
        "id": "BVORC6xF7RMp"
      },
      "execution_count": 3,
      "outputs": []
    },
    {
      "cell_type": "code",
      "source": [
        "# Preprocess the data and assign labels\n",
        "english_sentences = []\n",
        "arabic_sentences = []\n",
        "\n",
        "for line in lines:\n",
        "    parts = line.strip().split('\\t')\n",
        "    english_sentences.append(parts[0])\n",
        "    arabic_sentences.append(parts[1])\n",
        "\n",
        "# Assign labels\n",
        "english_labels = ['English'] * len(english_sentences)\n",
        "arabic_labels = ['Arabic'] * len(arabic_sentences)\n",
        "\n",
        "# Combine English and Arabic data\n",
        "data = pd.DataFrame({'english': english_sentences + arabic_sentences,\n",
        "                     'arabic': arabic_sentences + english_sentences,\n",
        "                     'label': english_labels + arabic_labels})\n",
        "\n",
        "# Shuffle the data\n",
        "data = data.sample(frac=1).reset_index(drop=True)\n",
        "\n",
        "# Tokenize English sentences\n",
        "tokenizer_en = Tokenizer()\n",
        "tokenizer_en.fit_on_texts(data['english'])\n",
        "train_en_seq = tokenizer_en.texts_to_sequences(data['english'])\n",
        "\n",
        "# Tokenize Arabic sentences\n",
        "tokenizer_ar = Tokenizer()\n",
        "tokenizer_ar.fit_on_texts(data['arabic'])\n",
        "train_ar_seq = tokenizer_ar.texts_to_sequences(data['arabic'])\n",
        "\n",
        "# Pad sequences to ensure uniform length\n",
        "max_seq_length = 20\n",
        "train_en_pad = pad_sequences(train_en_seq, maxlen=max_seq_length, padding='post')\n",
        "train_ar_pad = pad_sequences(train_ar_seq, maxlen=max_seq_length, padding='post')\n",
        "\n",
        "# Convert labels to numerical values\n",
        "train_labels = (data['label'] == 'English').astype(int)"
      ],
      "metadata": {
        "id": "H5pUEd867SK8"
      },
      "execution_count": 4,
      "outputs": []
    },
    {
      "cell_type": "code",
      "source": [
        "# Define Siamese Network\n",
        "def siamese_model(input_shape):\n",
        "    input_1 = layers.Input(shape=input_shape)\n",
        "    input_2 = layers.Input(shape=input_shape)\n",
        "\n",
        "    # Base network\n",
        "    base_network = tf.keras.Sequential([\n",
        "        layers.Embedding(input_dim=num_words, output_dim=100, input_length=max_seq_length),\n",
        "        layers.LSTM(100, return_sequences=True),\n",
        "        layers.LSTM(100),\n",
        "        layers.Dense(100, activation='relu')\n",
        "    ])\n",
        "\n",
        "    # Process the inputs through the base network\n",
        "    processed_1 = base_network(input_1)\n",
        "    processed_2 = base_network(input_2)\n",
        "\n",
        "    # Calculate L1 distance between the processed vectors\n",
        "    distance = tf.abs(tf.subtract(processed_1, processed_2))\n",
        "\n",
        "    # Output layer\n",
        "    output = layers.Dense(1, activation='sigmoid')(distance)\n",
        "\n",
        "    model = Model(inputs=[input_1, input_2], outputs=output)\n",
        "\n",
        "    return model"
      ],
      "metadata": {
        "id": "DSBXQRI97WOY"
      },
      "execution_count": 5,
      "outputs": []
    },
    {
      "cell_type": "code",
      "source": [
        "# Prepare dataset\n",
        "num_samples = len(train_en_pad)  # Adjust this accordingly\n",
        "num_words = 10000  # Adjust this based on your data\n",
        "\n",
        "# Split the data into 80% training and 20% test\n",
        "train_en, test_en, train_ar, test_ar, train_labels, test_labels = train_test_split(train_en_pad, train_ar_pad, train_labels, test_size=0.2, random_state=42)"
      ],
      "metadata": {
        "id": "URJAZGCR7bGF"
      },
      "execution_count": 6,
      "outputs": []
    },
    {
      "cell_type": "code",
      "source": [
        "# Train the Siamese Network\n",
        "input_shape = (max_seq_length,)\n",
        "model = siamese_model(input_shape)\n",
        "model.compile(optimizer='adam', loss='binary_crossentropy', metrics=['accuracy'])\n",
        "# Train the model\n",
        "history = model.fit([train_en, train_ar], train_labels, epochs=10, batch_size=32, validation_split=0.1)"
      ],
      "metadata": {
        "colab": {
          "base_uri": "https://localhost:8080/"
        },
        "id": "BeQ1XmdE7dmJ",
        "outputId": "c7acc905-6ae4-4f0c-e1bd-00cae0bcc646"
      },
      "execution_count": 7,
      "outputs": [
        {
          "output_type": "stream",
          "name": "stdout",
          "text": [
            "Epoch 1/10\n",
            "484/484 [==============================] - 35s 42ms/step - loss: 0.5850 - accuracy: 0.6313 - val_loss: 0.3486 - val_accuracy: 0.8226\n",
            "Epoch 2/10\n",
            "484/484 [==============================] - 7s 15ms/step - loss: 0.2588 - accuracy: 0.8805 - val_loss: 0.2292 - val_accuracy: 0.8871\n",
            "Epoch 3/10\n",
            "484/484 [==============================] - 6s 12ms/step - loss: 0.1433 - accuracy: 0.9397 - val_loss: 0.2140 - val_accuracy: 0.9040\n",
            "Epoch 4/10\n",
            "484/484 [==============================] - 7s 14ms/step - loss: 0.0864 - accuracy: 0.9668 - val_loss: 0.2387 - val_accuracy: 0.9122\n",
            "Epoch 5/10\n",
            "484/484 [==============================] - 5s 11ms/step - loss: 0.0597 - accuracy: 0.9753 - val_loss: 0.2687 - val_accuracy: 0.9110\n",
            "Epoch 6/10\n",
            "484/484 [==============================] - 7s 15ms/step - loss: 0.0534 - accuracy: 0.9805 - val_loss: 0.2493 - val_accuracy: 0.9133\n",
            "Epoch 7/10\n",
            "484/484 [==============================] - 10s 20ms/step - loss: 0.0423 - accuracy: 0.9856 - val_loss: 0.3036 - val_accuracy: 0.9116\n",
            "Epoch 8/10\n",
            "484/484 [==============================] - 8s 17ms/step - loss: 0.0288 - accuracy: 0.9895 - val_loss: 0.2956 - val_accuracy: 0.9139\n",
            "Epoch 9/10\n",
            "484/484 [==============================] - 6s 13ms/step - loss: 0.0308 - accuracy: 0.9893 - val_loss: 0.3441 - val_accuracy: 0.9052\n",
            "Epoch 10/10\n",
            "484/484 [==============================] - 6s 12ms/step - loss: 0.0260 - accuracy: 0.9913 - val_loss: 0.3201 - val_accuracy: 0.9186\n"
          ]
        }
      ]
    },
    {
      "cell_type": "code",
      "source": [
        "# Plotting training history\n",
        "plt.plot(history.history['loss'], label='Train Loss')\n",
        "plt.plot(history.history['val_loss'], label='Validation Loss')\n",
        "plt.xlabel('Epochs')\n",
        "plt.ylabel('Loss')\n",
        "plt.legend()\n",
        "plt.show()\n",
        "\n",
        "plt.plot(history.history['accuracy'], label='Train Accuracy')\n",
        "plt.plot(history.history['val_accuracy'], label='Validation Accuracy')\n",
        "plt.xlabel('Epochs')\n",
        "plt.ylabel('Accuracy')\n",
        "plt.legend()\n",
        "plt.show()\n",
        "\n",
        "\n",
        "# Print final train loss and accuracy\n",
        "train_loss, train_accuracy = model.evaluate([train_en, train_ar], train_labels)\n",
        "print(\"Final Train Loss:\", train_loss)\n",
        "print(\"Final Train Accuracy:\", train_accuracy*100,\"%\")\n",
        "\n",
        "# Evaluate the model on test data\n",
        "test_loss, test_accuracy = model.evaluate([test_en, test_ar], test_labels)\n",
        "print(\"Test Loss:\", test_loss)\n",
        "print(\"Test Accuracy:\", test_accuracy*100,\"%\")"
      ],
      "metadata": {
        "colab": {
          "base_uri": "https://localhost:8080/",
          "height": 985
        },
        "id": "lnbe51Q-6caw",
        "outputId": "2bf2fc36-2a6e-4bda-f363-154de30be590"
      },
      "execution_count": 21,
      "outputs": [
        {
          "output_type": "display_data",
          "data": {
            "text/plain": [
              "<Figure size 640x480 with 1 Axes>"
            ],
            "image/png": "[encoded data removed]"
          },
          "metadata": {}
        },
        {
          "output_type": "display_data",
          "data": {
            "text/plain": [
              "<Figure size 640x480 with 1 Axes>"
            ],
            "image/png": "[encoded data removed]"
          },
          "metadata": {}
        },
        {
          "output_type": "stream",
          "name": "stdout",
          "text": [
            "538/538 [==============================] - 3s 5ms/step - loss: 0.0431 - accuracy: 0.9883\n",
            "Final Train Loss: 0.043146368116140366\n",
            "Final Train Accuracy: 98.83050918579102 %\n",
            "135/135 [==============================] - 1s 5ms/step - loss: 0.3847 - accuracy: 0.9023\n",
            "Test Loss: 0.3846551179885864\n",
            "Test Accuracy: 90.22573828697205 %\n"
          ]
        }
      ]
    },
    {
      "cell_type": "code",
      "source": [
        "def preprocess_sentence(sentence, max_seq_length):\n",
        "    words = sentence.split()\n",
        "    if len(words) > max_seq_length:\n",
        "        words = words[:max_seq_length]\n",
        "    else:\n",
        "        words += [''] * (max_seq_length - len(words))\n",
        "    return words\n",
        "\n",
        "def compute_similarity(sentence1, sentence2, model, tokenizer_en, tokenizer_ar, max_seq_length):\n",
        "    processed_sentence1 = preprocess_sentence(sentence1, max_seq_length)\n",
        "    processed_sentence2 = preprocess_sentence(sentence2, max_seq_length)\n",
        "\n",
        "    # Tokenize and pad the sequences\n",
        "    input_en = pad_sequences(tokenizer_en.texts_to_sequences([processed_sentence1]), maxlen=max_seq_length, padding='post')\n",
        "    input_ar = pad_sequences(tokenizer_ar.texts_to_sequences([processed_sentence2]), maxlen=max_seq_length, padding='post')\n",
        "\n",
        "    similarity_score = model.predict([input_en, input_ar])[0][0]\n",
        "\n",
        "    return similarity_score"
      ],
      "metadata": {
        "id": "4GQf9w2n7exu"
      },
      "execution_count": 11,
      "outputs": []
    },
    {
      "cell_type": "code",
      "source": [
        "# Example usage\n",
        "user_sentence1 = \"Why Me \"\n",
        "user_sentence2 = \"لماذا أنا \"\n",
        "\n",
        "similarity_score = compute_similarity(user_sentence1, user_sentence2, model, tokenizer_en, tokenizer_ar, max_seq_length)\n",
        "print(\"Similarity Score:\", similarity_score*100)"
      ],
      "metadata": {
        "colab": {
          "base_uri": "https://localhost:8080/"
        },
        "id": "69QWdDUP7i3K",
        "outputId": "c720ea42-d23c-4421-bb52-4e7fa681294c"
      },
      "execution_count": 26,
      "outputs": [
        {
          "output_type": "stream",
          "name": "stdout",
          "text": [
            "1/1 [==============================] - 0s 32ms/step\n",
            "Similarity Score: 79.81667518615723\n"
          ]
        }
      ]
    },
    {
      "cell_type": "code",
      "source": [
        "# Example usage\n",
        "user_sentence1 = \"Programming Is Fun \"\n",
        "user_sentence2 = \"البرمجه ممتعه \"\n",
        "\n",
        "similarity_score = compute_similarity(user_sentence1, user_sentence2, model, tokenizer_en, tokenizer_ar, max_seq_length)\n",
        "print(\"Similarity Score:\", similarity_score*100)"
      ],
      "metadata": {
        "colab": {
          "base_uri": "https://localhost:8080/"
        },
        "id": "XHa9XdGlC6pw",
        "outputId": "ac17769b-3d91-4a6a-e079-db31984b2348"
      },
      "execution_count": 25,
      "outputs": [
        {
          "output_type": "stream",
          "name": "stdout",
          "text": [
            "1/1 [==============================] - 0s 20ms/step\n",
            "Similarity Score: 99.89726543426514\n"
          ]
        }
      ]
    },
    {
      "cell_type": "code",
      "source": [
        "# Example usage\n",
        "user_sentence1 = \"Is the cat on the chair or under the chair?\"\n",
        "user_sentence2 = \"هل القطة فوق الكرسي أم أسفله ؟\"\n",
        "\n",
        "similarity_score = compute_similarity(user_sentence1, user_sentence2, model, tokenizer_en, tokenizer_ar, max_seq_length)\n",
        "print(\"Similarity Score:\", similarity_score*100)"
      ],
      "metadata": {
        "colab": {
          "base_uri": "https://localhost:8080/"
        },
        "id": "ttIrQQKADjFs",
        "outputId": "79edf84d-3bfa-426e-9df6-7e75fac01d35"
      },
      "execution_count": 33,
      "outputs": [
        {
          "output_type": "stream",
          "name": "stdout",
          "text": [
            "1/1 [==============================] - 0s 20ms/step\n",
            "Similarity Score: 100.0\n"
          ]
        }
      ]
    },
    {
      "cell_type": "code",
      "source": [
        "# Example usage\n",
        "user_sentence1 = \"I Like Pizza\"\n",
        "user_sentence2 = \"انا تعجبني البيتزا\"\n",
        "\n",
        "similarity_score = compute_similarity(user_sentence1, user_sentence2, model, tokenizer_en, tokenizer_ar, max_seq_length)\n",
        "print(\"Similarity Score:\", similarity_score*100)"
      ],
      "metadata": {
        "colab": {
          "base_uri": "https://localhost:8080/"
        },
        "id": "FS1jIU_QEEMM",
        "outputId": "b03be8ec-406a-4248-9f64-ba0118f03425"
      },
      "execution_count": 38,
      "outputs": [
        {
          "output_type": "stream",
          "name": "stdout",
          "text": [
            "1/1 [==============================] - 0s 20ms/step\n",
            "Similarity Score: 99.98444318771362\n"
          ]
        }
      ]
    },
    {
      "cell_type": "code",
      "source": [
        "# Example usage\n",
        "user_sentence1 = \"Of course\"\n",
        "user_sentence2 = \"طبعا\"\n",
        "\n",
        "similarity_score = compute_similarity(user_sentence1, user_sentence2, model, tokenizer_en, tokenizer_ar, max_seq_length)\n",
        "print(\"Similarity Score:\", similarity_score*100)"
      ],
      "metadata": {
        "colab": {
          "base_uri": "https://localhost:8080/"
        },
        "id": "WGG2MOa4E9bj",
        "outputId": "1cc067c2-93dc-46be-8a7d-261b79cff135"
      },
      "execution_count": 41,
      "outputs": [
        {
          "output_type": "stream",
          "name": "stdout",
          "text": [
            "1/1 [==============================] - 0s 20ms/step\n",
            "Similarity Score: 99.74700212478638\n"
          ]
        }
      ]
    },
    {
      "cell_type": "code",
      "source": [
        "# Example usage\n",
        "user_sentence1 = \"Of course\"\n",
        "user_sentence2 = \"بالطبع\"\n",
        "\n",
        "similarity_score = compute_similarity(user_sentence1, user_sentence2, model, tokenizer_en, tokenizer_ar, max_seq_length)\n",
        "print(\"Similarity Score:\", similarity_score*100)"
      ],
      "metadata": {
        "colab": {
          "base_uri": "https://localhost:8080/"
        },
        "id": "xpovHVoFFcbD",
        "outputId": "39b9d9cd-56a9-441f-8ca9-315bc6026c56"
      },
      "execution_count": 42,
      "outputs": [
        {
          "output_type": "stream",
          "name": "stdout",
          "text": [
            "1/1 [==============================] - 0s 20ms/step\n",
            "Similarity Score: 99.98242259025574\n"
          ]
        }
      ]
    }
  ]
}